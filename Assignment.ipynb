{
 "cells": [
  {
   "cell_type": "code",
   "execution_count": 1,
   "id": "346e02c1",
   "metadata": {},
   "outputs": [
    {
     "name": "stdout",
     "output_type": "stream",
     "text": [
      "sum after 1 iteration: 1\n",
      "sum after 2 iteartion: 3 (current:2 previous: 1) \n",
      "sum after 3 iteartion: 6 (current:3 previous: 2) \n",
      "sum after 4 iteartion: 10 (current:4 previous: 3) \n",
      "sum after 5 iteartion: 15 (current:5 previous: 4) \n",
      "sum after 6 iteartion: 21 (current:6 previous: 5) \n",
      "sum after 7 iteartion: 28 (current:7 previous: 6) \n",
      "sum after 8 iteartion: 36 (current:8 previous: 7) \n",
      "sum after 9 iteartion: 45 (current:9 previous: 8) \n",
      "sum after 10 iteartion: 55 (current:10 previous: 9) \n"
     ]
    }
   ],
   "source": [
    "#Program to iterate first 10 numbers and in each iteration print the sum of the current and previous number\n",
    "current_sum=0\n",
    "for i in range (1,11):\n",
    "    current_sum += i\n",
    "    \n",
    "    if i==1:\n",
    "        print (f\"sum after {i} iteration: {current_sum}\")\n",
    "        \n",
    "    else:\n",
    "        print (f\"sum after {i} iteartion: {current_sum} (current:{i} previous: {i-1}) \")"
   ]
  },
  {
   "cell_type": "code",
   "execution_count": 2,
   "id": "b5289c5d",
   "metadata": {},
   "outputs": [
    {
     "name": "stdout",
     "output_type": "stream",
     "text": [
      "1\n",
      "22\n",
      "333\n",
      "4444\n",
      "55555\n"
     ]
    }
   ],
   "source": [
    "#Print a following pattern\n",
    "rows=5\n",
    "for i in range (1,rows+1):\n",
    "    for j in range (1,i+1):\n",
    "        print (i, end=\"\")\n",
    "    print()"
   ]
  },
  {
   "cell_type": "code",
   "execution_count": 3,
   "id": "1f4eacad",
   "metadata": {},
   "outputs": [
    {
     "name": "stdout",
     "output_type": "stream",
     "text": [
      "75\n",
      "150\n",
      "145\n",
      "50\n"
     ]
    }
   ],
   "source": [
    "#display numbers that are divisible by 5 and satisfy the following conditions\n",
    "numbers= [12,75,150,180,145,525,50]\n",
    "\n",
    "for num in numbers:\n",
    "    if num%5==0:\n",
    "        \n",
    "        if num >150:\n",
    "            continue\n",
    "        elif num>500:\n",
    "            break\n",
    "        else:\n",
    "            print (num)"
   ]
  },
  {
   "cell_type": "code",
   "execution_count": 4,
   "id": "3060ab03",
   "metadata": {},
   "outputs": [
    {
     "name": "stdout",
     "output_type": "stream",
     "text": [
      "0 1 1 2 3 5 8 13 21 34 "
     ]
    }
   ],
   "source": [
    "#Display a fibonnaci series upto 10 terms\n",
    "a, b = 0, 1\n",
    "\n",
    "for _ in range(10):\n",
    "    print(a, end=\" \")\n",
    "    a, b = b, a + b"
   ]
  },
  {
   "cell_type": "code",
   "execution_count": 5,
   "id": "f0caf915",
   "metadata": {},
   "outputs": [
    {
     "name": "stdout",
     "output_type": "stream",
     "text": [
      "Factorial of 5: 120\n"
     ]
    }
   ],
   "source": [
    "#Program to calculate factorial of 5\n",
    "factorial_result = 1\n",
    "\n",
    "for i in range(1, 6):  \n",
    "    factorial_result *= i\n",
    "\n",
    "print(\"Factorial of 5:\", factorial_result)"
   ]
  },
  {
   "cell_type": "code",
   "execution_count": 7,
   "id": "41a20ea2",
   "metadata": {},
   "outputs": [
    {
     "name": "stdout",
     "output_type": "stream",
     "text": [
      "11: 2 times\n",
      "45: 3 times\n",
      "8: 1 times\n",
      "23: 2 times\n",
      "89: 1 times\n"
     ]
    }
   ],
   "source": [
    "#Program to iterate a given list and count the occurrence of each element and\n",
    "# Given list\n",
    "sample_list = [11, 45, 8, 11, 23, 45, 23, 45, 89]\n",
    "\n",
    "element_counts = {}\n",
    "for element in sample_list:\n",
    "    element_counts[element] = element_counts.get(element, 0) + 1\n",
    "\n",
    "\n",
    "for element, count in element_counts.items():\n",
    "    print(f\"{element}: {count} times\")\n",
    "\n"
   ]
  },
  {
   "cell_type": "code",
   "execution_count": 8,
   "id": "a88d8fce",
   "metadata": {},
   "outputs": [
    {
     "name": "stdout",
     "output_type": "stream",
     "text": [
      "List 3: [4, 6, 12, 12, 20, 18, 28]\n"
     ]
    }
   ],
   "source": [
    "#Program to add odd index numbers from list1 and even index numbers from list 2 to list 3.\n",
    "l1 = [3, 6, 9, 12, 15, 18, 21]\n",
    "l2 = [4, 8, 12, 16, 20, 24, 28]\n",
    "\n",
    "l3= []\n",
    "\n",
    "for i in range (max(len(l1), len(l2))):\n",
    "    if i<len(l1) and i%2 !=0:\n",
    "        l3.append(l1[i])\n",
    "        \n",
    "    elif i<len(l2) and i%2==0:\n",
    "        l3.append(l2[i])\n",
    "    \n",
    "print (\"List 3:\",l3) "
   ]
  },
  {
   "cell_type": "code",
   "execution_count": null,
   "id": "9bc56469",
   "metadata": {},
   "outputs": [],
   "source": []
  }
 ],
 "metadata": {
  "kernelspec": {
   "display_name": "Python 3 (ipykernel)",
   "language": "python",
   "name": "python3"
  },
  "language_info": {
   "codemirror_mode": {
    "name": "ipython",
    "version": 3
   },
   "file_extension": ".py",
   "mimetype": "text/x-python",
   "name": "python",
   "nbconvert_exporter": "python",
   "pygments_lexer": "ipython3",
   "version": "3.11.5"
  }
 },
 "nbformat": 4,
 "nbformat_minor": 5
}
